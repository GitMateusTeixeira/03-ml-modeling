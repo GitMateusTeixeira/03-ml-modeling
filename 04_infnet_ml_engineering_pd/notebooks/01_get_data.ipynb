{
 "cells": [
  {
   "cell_type": "code",
   "execution_count": 1,
   "metadata": {},
   "outputs": [],
   "source": [
    "import os\n",
    "import requests\n",
    "from pathlib import Path"
   ]
  },
  {
   "cell_type": "code",
   "execution_count": 3,
   "metadata": {},
   "outputs": [],
   "source": [
    "# URL do repositório GitHub\n",
    "REPO_URL = 'https://github.com/tciodaro/eng_ml/raw/main/data/'\n",
    "\n",
    "# Arquivos a serem baixados\n",
    "FILES = ['dataset_kobe_dev.parquet', 'dataset_kobe_prod.parquet']"
   ]
  },
  {
   "cell_type": "code",
   "execution_count": 2,
   "metadata": {},
   "outputs": [
    {
     "data": {
      "text/plain": [
       "WindowsPath('c:/Users/pesso/Documents/DevProjects/GitHubRepositories/ml_models/infnet_04_ml_engineering_pd/data/01_raw')"
      ]
     },
     "execution_count": 2,
     "metadata": {},
     "output_type": "execute_result"
    }
   ],
   "source": [
    "# Caminho absoluto para salvar os arquivos\n",
    "BASE_DIR = Path(os.getcwd()).parent  # Subir um nível para a pasta raiz do projeto\n",
    "SAVE_PATH = BASE_DIR / 'data' / '01_raw'  # Diretório onde os arquivos serão salvos\n",
    "\n",
    "SAVE_PATH"
   ]
  },
  {
   "cell_type": "code",
   "execution_count": 4,
   "metadata": {},
   "outputs": [],
   "source": [
    "# Criação do diretório se não existir\n",
    "SAVE_PATH.mkdir(parents=True, exist_ok=True)"
   ]
  },
  {
   "cell_type": "code",
   "execution_count": 41,
   "metadata": {},
   "outputs": [
    {
     "name": "stdout",
     "output_type": "stream",
     "text": [
      "dataset_kobe_dev.parquet já existe em c:\\Users\\pesso\\Documents\\DevProjects\\GitHubRepositories\\ml_models\\04_infnet_ml_engineering_pd\\04-infnet-ml-engineering-pd\\data\\01_raw\\dataset_kobe_dev.parquet. Pulando o download...\n",
      "dataset_kobe_prod.parquet já existe em c:\\Users\\pesso\\Documents\\DevProjects\\GitHubRepositories\\ml_models\\04_infnet_ml_engineering_pd\\04-infnet-ml-engineering-pd\\data\\01_raw\\dataset_kobe_prod.parquet. Pulando o download...\n",
      "Download concluído!\n"
     ]
    }
   ],
   "source": [
    "# Loop para baixar os arquivos\n",
    "for file in FILES:\n",
    "    file_url = REPO_URL + file\n",
    "    file_path = SAVE_PATH / file  # Garantir que file seja convertido para Path\n",
    "\n",
    "    if not file_path.exists():\n",
    "        print(f'Baixando {file}...')\n",
    "        response = requests.get(file_url)\n",
    "\n",
    "        if response.status_code == 200:\n",
    "            with open(file_path, 'wb') as f:\n",
    "                f.write(response.content)\n",
    "            print(f'{file} salvo em {file_path}')\n",
    "        else:\n",
    "            print(f'Erro ao baixar {file}: {response.status_code}')\n",
    "    else:\n",
    "        print(f'{file} já existe em {file_path}. Pulando o download...')\n",
    "\n",
    "print('Download concluído!')"
   ]
  }
 ],
 "metadata": {
  "kernelspec": {
   "display_name": "env_25E1_3_v4",
   "language": "python",
   "name": "python3"
  },
  "language_info": {
   "codemirror_mode": {
    "name": "ipython",
    "version": 3
   },
   "file_extension": ".py",
   "mimetype": "text/x-python",
   "name": "python",
   "nbconvert_exporter": "python",
   "pygments_lexer": "ipython3",
   "version": "3.11.11"
  }
 },
 "nbformat": 4,
 "nbformat_minor": 2
}
