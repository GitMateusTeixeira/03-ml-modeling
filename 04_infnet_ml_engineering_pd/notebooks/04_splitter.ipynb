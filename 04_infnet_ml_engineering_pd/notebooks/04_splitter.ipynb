{
 "cells": [
  {
   "cell_type": "code",
   "execution_count": 18,
   "metadata": {},
   "outputs": [],
   "source": [
    "# bibliotecas\n",
    "import os\n",
    "import pandas as pd\n",
    "from pathlib import Path\n",
    "from sklearn.model_selection import train_test_split"
   ]
  },
  {
   "cell_type": "code",
   "execution_count": null,
   "metadata": {},
   "outputs": [],
   "source": [
    "# Diretório base do projeto\n",
    "BASE_DIR = Path(os.getcwd()).parent\n",
    "\n",
    "# Caminho onde os dados de features estão armazenados\n",
    "FEATURE_DATA_PATH = BASE_DIR / 'data' / '04_feature'\n",
    "X_FEATURE_FILE_PATH = FEATURE_DATA_PATH / 'x_features_dev.parquet'\n",
    "Y_FEATURE_FILE_PATH = FEATURE_DATA_PATH / 'y_features_dev.parquet'\n",
    "\n",
    "# Caminho para salvar os dados de treino e teste\n",
    "MODEL_INPUT_PATH = BASE_DIR / 'data' / '05_model_input'\n",
    "os.makedirs(MODEL_INPUT_PATH, exist_ok=True)\n",
    "\n",
    "X_TRAIN_FILE_PATH = MODEL_INPUT_PATH / 'model_input_x_train.parquet'\n",
    "X_TEST_FILE_PATH = MODEL_INPUT_PATH / 'model_input_x_test.parquet'\n",
    "Y_TRAIN_FILE_PATH = MODEL_INPUT_PATH / 'model_input_y_train.parquet'\n",
    "Y_TEST_FILE_PATH = MODEL_INPUT_PATH / 'model_input_y_test.parquet'"
   ]
  },
  {
   "cell_type": "code",
   "execution_count": 28,
   "metadata": {},
   "outputs": [],
   "source": [
    "# Ler os arquivos de features X e y\n",
    "X = pd.read_parquet(X_FEATURE_FILE_PATH)\n",
    "y = pd.read_parquet(Y_FEATURE_FILE_PATH)"
   ]
  },
  {
   "cell_type": "code",
   "execution_count": 29,
   "metadata": {},
   "outputs": [],
   "source": [
    "# Separar em treino (80%) e teste (20%) de forma estratificada\n",
    "X_train, X_test, y_train, y_test = train_test_split(X, y, test_size=0.2, random_state=17, stratify=y)"
   ]
  },
  {
   "cell_type": "code",
   "execution_count": 30,
   "metadata": {},
   "outputs": [
    {
     "name": "stdout",
     "output_type": "stream",
     "text": [
      "Arquivos de treino e teste salvos em:\n",
      "c:\\Users\\pesso\\Documents\\DevProjects\\GitHubRepositories\\ml_models\\04_infnet_ml_engineering_pd\\04-infnet-ml-engineering-pd\\data\\05_model_input\\05_model_input_x_train.parquet\n",
      "c:\\Users\\pesso\\Documents\\DevProjects\\GitHubRepositories\\ml_models\\04_infnet_ml_engineering_pd\\04-infnet-ml-engineering-pd\\data\\05_model_input\\05_model_input_x_test.parquet\n",
      "c:\\Users\\pesso\\Documents\\DevProjects\\GitHubRepositories\\ml_models\\04_infnet_ml_engineering_pd\\04-infnet-ml-engineering-pd\\data\\05_model_input\\05_model_input_y_train.parquet\n",
      "c:\\Users\\pesso\\Documents\\DevProjects\\GitHubRepositories\\ml_models\\04_infnet_ml_engineering_pd\\04-infnet-ml-engineering-pd\\data\\05_model_input\\05_model_input_y_test.parquet\n"
     ]
    }
   ],
   "source": [
    "# Salvar os arquivos separados de treino e teste\n",
    "X_train.to_parquet(X_TRAIN_FILE_PATH, index=False)\n",
    "X_test.to_parquet(X_TEST_FILE_PATH, index=False)\n",
    "y_train.to_parquet(Y_TRAIN_FILE_PATH, index=False)\n",
    "y_test.to_parquet(Y_TEST_FILE_PATH, index=False)\n",
    "\n",
    "print(f\"Arquivos de treino e teste salvos em:\\n{X_TRAIN_FILE_PATH}\\n{X_TEST_FILE_PATH}\\n{Y_TRAIN_FILE_PATH}\\n{Y_TEST_FILE_PATH}\")"
   ]
  }
 ],
 "metadata": {
  "kernelspec": {
   "display_name": "env_ml_eng_25E1_3",
   "language": "python",
   "name": "python3"
  },
  "language_info": {
   "codemirror_mode": {
    "name": "ipython",
    "version": 3
   },
   "file_extension": ".py",
   "mimetype": "text/x-python",
   "name": "python",
   "nbconvert_exporter": "python",
   "pygments_lexer": "ipython3",
   "version": "3.11.11"
  }
 },
 "nbformat": 4,
 "nbformat_minor": 2
}
