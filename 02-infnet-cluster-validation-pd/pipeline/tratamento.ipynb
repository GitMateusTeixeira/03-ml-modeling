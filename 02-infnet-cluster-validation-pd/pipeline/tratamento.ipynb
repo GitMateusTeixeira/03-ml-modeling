{
 "cells": [
  {
   "cell_type": "markdown",
   "metadata": {},
   "source": [
    "# <img src=\"../assets/logo_infnetv1.png\" alt=\"Infnet logo\" height=\"45\"/> Pipeline para o projeto de Disciplina de Validação de Modelos de Clusterização\n",
    "<img src=\"https://img.shields.io/badge/python-v._3.11.5-blue?style=flat-square&logo=python&logoColor=white\" alt=\"python_logo\" height=\"20\"/>\n",
    "<img src=\"https://img.shields.io/badge/jupyter-v._5.7.2-blue?style=flat-square&logo=jupyter&logoColor=white\" alt=\"jupyter_logo\" height=\"20\"/>\n",
    "<img src=\"https://img.shields.io/badge/anaconda-v._23.7.4-blue?style=flat-square&logo=anaconda&logoColor=white\" alt=\"anaconda_logo\" height=\"20\"/>\n",
    "\n",
    "#### Aluno: Mateus Teixeira Ramos da Silva\n",
    "\n",
    "### Índice\n",
    "\n",
    "---\n",
    "\n",
    "- <a href='#importar-o-arquivo-não-tratado'>Importar o arquivo não tratado</a>\n",
    "\n",
    "- <a href='#colunas-temporais-idade-data-da-transação-e-time_stamp'>Colunas temporais</a>\n",
    "\n",
    "- <a href='#colunas-categóricas'>Colunas categóricas</a>\n",
    "\n",
    "- <a href='#colunas-numéricas'>Colunas numéricas</a>\n",
    "\n",
    "- <a href='#salvar-o-arquivo-tratado'>Salvar o arquivo tratado</a>\n",
    "\n",
    "\n",
    "### Objetivo:\n",
    "\n",
    "Tratar os dados do dataset que se encontram fora de padrão"
   ]
  },
  {
   "cell_type": "code",
   "execution_count": 79,
   "metadata": {},
   "outputs": [],
   "source": [
    "# Importar os pacotes\n",
    "\n",
    "# Para demonstrar a infraestrutura utilizada\n",
    "import sys\n",
    "import subprocess\n",
    "import os\n",
    "import pkg_resources\n",
    "\n",
    "# Para administrar o dataset\n",
    "import numpy as np\n",
    "import pandas as pd\n",
    "\n",
    "# Para preprocessamento dos dados\n",
    "from datetime import datetime\n",
    "from sklearn.preprocessing import RobustScaler"
   ]
  },
  {
   "cell_type": "markdown",
   "metadata": {},
   "source": [
    "#### Importar o arquivo não tratado\n",
    "\n",
    "---\n",
    "\n",
    "<a href='#índice'>Voltar ao início</a>"
   ]
  },
  {
   "cell_type": "code",
   "execution_count": 80,
   "metadata": {},
   "outputs": [],
   "source": [
    "caminho = '..\\data\\\\'\n",
    "arquivo = 'bank_transactions' + '.csv'\n",
    "\n",
    "# Caminho completo para o novo arquivo\n",
    "caminho_arquivo = os.path.join(caminho, arquivo)\n",
    "\n",
    "base = pd.read_csv(caminho_arquivo, encoding='latin-1', on_bad_lines='skip', sep=',')"
   ]
  },
  {
   "cell_type": "code",
   "execution_count": 81,
   "metadata": {},
   "outputs": [],
   "source": [
    "# Definindo uma amostra da base para determinar o número ótimo de K\n",
    "fracao = 0.015 # para 2.5% 10.000 da base\n",
    "dados = base.sample(frac=fracao, random_state=6)"
   ]
  },
  {
   "cell_type": "code",
   "execution_count": 82,
   "metadata": {},
   "outputs": [
    {
     "data": {
      "text/plain": [
       "(15729, 9)"
      ]
     },
     "execution_count": 82,
     "metadata": {},
     "output_type": "execute_result"
    }
   ],
   "source": [
    "dados.shape"
   ]
  },
  {
   "cell_type": "code",
   "execution_count": 83,
   "metadata": {},
   "outputs": [],
   "source": [
    "# Traduzir as colunas\n",
    "colunas_traduzidas = ['id_transacao', 'id_cliente', 'idade', 'genero', 'localizacao', 'saldo', 'data_transacao', 'time_stamp', 'quantia_transacao (INR)']\n",
    "\n",
    "dados.columns = colunas_traduzidas"
   ]
  },
  {
   "cell_type": "code",
   "execution_count": 84,
   "metadata": {},
   "outputs": [
    {
     "data": {
      "text/html": [
       "<div>\n",
       "<style scoped>\n",
       "    .dataframe tbody tr th:only-of-type {\n",
       "        vertical-align: middle;\n",
       "    }\n",
       "\n",
       "    .dataframe tbody tr th {\n",
       "        vertical-align: top;\n",
       "    }\n",
       "\n",
       "    .dataframe thead th {\n",
       "        text-align: right;\n",
       "    }\n",
       "</style>\n",
       "<table border=\"1\" class=\"dataframe\">\n",
       "  <thead>\n",
       "    <tr style=\"text-align: right;\">\n",
       "      <th></th>\n",
       "      <th>coluna</th>\n",
       "      <th>tipo</th>\n",
       "      <th>únicos</th>\n",
       "      <th>null_soma</th>\n",
       "      <th>media</th>\n",
       "      <th>desvio</th>\n",
       "      <th>minimo</th>\n",
       "      <th>25%</th>\n",
       "      <th>mediana</th>\n",
       "      <th>75%</th>\n",
       "      <th>maximo</th>\n",
       "      <th>moda</th>\n",
       "      <th>frequência_moda</th>\n",
       "    </tr>\n",
       "  </thead>\n",
       "  <tbody>\n",
       "    <tr>\n",
       "      <th>0</th>\n",
       "      <td>id_transacao</td>\n",
       "      <td>object</td>\n",
       "      <td>15729</td>\n",
       "      <td>0</td>\n",
       "      <td>Não se aplica</td>\n",
       "      <td>Não se aplica</td>\n",
       "      <td>Não se aplica</td>\n",
       "      <td>Não se aplica</td>\n",
       "      <td>Não se aplica</td>\n",
       "      <td>Não se aplica</td>\n",
       "      <td>Não se aplica</td>\n",
       "      <td>T1000106</td>\n",
       "      <td>1</td>\n",
       "    </tr>\n",
       "    <tr>\n",
       "      <th>1</th>\n",
       "      <td>id_cliente</td>\n",
       "      <td>object</td>\n",
       "      <td>15693</td>\n",
       "      <td>0</td>\n",
       "      <td>Não se aplica</td>\n",
       "      <td>Não se aplica</td>\n",
       "      <td>Não se aplica</td>\n",
       "      <td>Não se aplica</td>\n",
       "      <td>Não se aplica</td>\n",
       "      <td>Não se aplica</td>\n",
       "      <td>Não se aplica</td>\n",
       "      <td>C1028915</td>\n",
       "      <td>2</td>\n",
       "    </tr>\n",
       "    <tr>\n",
       "      <th>2</th>\n",
       "      <td>idade</td>\n",
       "      <td>object</td>\n",
       "      <td>7000</td>\n",
       "      <td>60</td>\n",
       "      <td>Não se aplica</td>\n",
       "      <td>Não se aplica</td>\n",
       "      <td>Não se aplica</td>\n",
       "      <td>Não se aplica</td>\n",
       "      <td>Não se aplica</td>\n",
       "      <td>Não se aplica</td>\n",
       "      <td>Não se aplica</td>\n",
       "      <td>1/1/1800</td>\n",
       "      <td>837</td>\n",
       "    </tr>\n",
       "    <tr>\n",
       "      <th>3</th>\n",
       "      <td>genero</td>\n",
       "      <td>object</td>\n",
       "      <td>2</td>\n",
       "      <td>16</td>\n",
       "      <td>Não se aplica</td>\n",
       "      <td>Não se aplica</td>\n",
       "      <td>Não se aplica</td>\n",
       "      <td>Não se aplica</td>\n",
       "      <td>Não se aplica</td>\n",
       "      <td>Não se aplica</td>\n",
       "      <td>Não se aplica</td>\n",
       "      <td>M</td>\n",
       "      <td>11581</td>\n",
       "    </tr>\n",
       "    <tr>\n",
       "      <th>4</th>\n",
       "      <td>localizacao</td>\n",
       "      <td>object</td>\n",
       "      <td>1644</td>\n",
       "      <td>1</td>\n",
       "      <td>Não se aplica</td>\n",
       "      <td>Não se aplica</td>\n",
       "      <td>Não se aplica</td>\n",
       "      <td>Não se aplica</td>\n",
       "      <td>Não se aplica</td>\n",
       "      <td>Não se aplica</td>\n",
       "      <td>Não se aplica</td>\n",
       "      <td>MUMBAI</td>\n",
       "      <td>1570</td>\n",
       "    </tr>\n",
       "    <tr>\n",
       "      <th>5</th>\n",
       "      <td>saldo</td>\n",
       "      <td>float64</td>\n",
       "      <td>13996</td>\n",
       "      <td>35</td>\n",
       "      <td>104526.834465</td>\n",
       "      <td>457855.109357</td>\n",
       "      <td>0.0</td>\n",
       "      <td>4688.615</td>\n",
       "      <td>16609.17</td>\n",
       "      <td>56232.4425</td>\n",
       "      <td>17772978.13</td>\n",
       "      <td>0.0</td>\n",
       "      <td>46</td>\n",
       "    </tr>\n",
       "    <tr>\n",
       "      <th>6</th>\n",
       "      <td>data_transacao</td>\n",
       "      <td>object</td>\n",
       "      <td>54</td>\n",
       "      <td>0</td>\n",
       "      <td>Não se aplica</td>\n",
       "      <td>Não se aplica</td>\n",
       "      <td>Não se aplica</td>\n",
       "      <td>Não se aplica</td>\n",
       "      <td>Não se aplica</td>\n",
       "      <td>Não se aplica</td>\n",
       "      <td>Não se aplica</td>\n",
       "      <td>6/8/16</td>\n",
       "      <td>440</td>\n",
       "    </tr>\n",
       "    <tr>\n",
       "      <th>7</th>\n",
       "      <td>time_stamp</td>\n",
       "      <td>int64</td>\n",
       "      <td>13793</td>\n",
       "      <td>0</td>\n",
       "      <td>156396.655159</td>\n",
       "      <td>51868.456325</td>\n",
       "      <td>0.0</td>\n",
       "      <td>123426.0</td>\n",
       "      <td>163727.0</td>\n",
       "      <td>195840.0</td>\n",
       "      <td>235959.0</td>\n",
       "      <td>161734</td>\n",
       "      <td>5</td>\n",
       "    </tr>\n",
       "    <tr>\n",
       "      <th>8</th>\n",
       "      <td>quantia_transacao (INR)</td>\n",
       "      <td>float64</td>\n",
       "      <td>4584</td>\n",
       "      <td>0</td>\n",
       "      <td>1649.588309</td>\n",
       "      <td>8419.478006</td>\n",
       "      <td>0.0</td>\n",
       "      <td>169.0</td>\n",
       "      <td>452.0</td>\n",
       "      <td>1189.0</td>\n",
       "      <td>569500.27</td>\n",
       "      <td>100.0</td>\n",
       "      <td>518</td>\n",
       "    </tr>\n",
       "  </tbody>\n",
       "</table>\n",
       "</div>"
      ],
      "text/plain": [
       "                    coluna     tipo  únicos  null_soma          media  \\\n",
       "0             id_transacao   object   15729          0  Não se aplica   \n",
       "1               id_cliente   object   15693          0  Não se aplica   \n",
       "2                    idade   object    7000         60  Não se aplica   \n",
       "3                   genero   object       2         16  Não se aplica   \n",
       "4              localizacao   object    1644          1  Não se aplica   \n",
       "5                    saldo  float64   13996         35  104526.834465   \n",
       "6           data_transacao   object      54          0  Não se aplica   \n",
       "7               time_stamp    int64   13793          0  156396.655159   \n",
       "8  quantia_transacao (INR)  float64    4584          0    1649.588309   \n",
       "\n",
       "          desvio         minimo            25%        mediana            75%  \\\n",
       "0  Não se aplica  Não se aplica  Não se aplica  Não se aplica  Não se aplica   \n",
       "1  Não se aplica  Não se aplica  Não se aplica  Não se aplica  Não se aplica   \n",
       "2  Não se aplica  Não se aplica  Não se aplica  Não se aplica  Não se aplica   \n",
       "3  Não se aplica  Não se aplica  Não se aplica  Não se aplica  Não se aplica   \n",
       "4  Não se aplica  Não se aplica  Não se aplica  Não se aplica  Não se aplica   \n",
       "5  457855.109357            0.0       4688.615       16609.17     56232.4425   \n",
       "6  Não se aplica  Não se aplica  Não se aplica  Não se aplica  Não se aplica   \n",
       "7   51868.456325            0.0       123426.0       163727.0       195840.0   \n",
       "8    8419.478006            0.0          169.0          452.0         1189.0   \n",
       "\n",
       "          maximo      moda  frequência_moda  \n",
       "0  Não se aplica  T1000106                1  \n",
       "1  Não se aplica  C1028915                2  \n",
       "2  Não se aplica  1/1/1800              837  \n",
       "3  Não se aplica         M            11581  \n",
       "4  Não se aplica    MUMBAI             1570  \n",
       "5    17772978.13       0.0               46  \n",
       "6  Não se aplica    6/8/16              440  \n",
       "7       235959.0    161734                5  \n",
       "8      569500.27     100.0              518  "
      ]
     },
     "execution_count": 84,
     "metadata": {},
     "output_type": "execute_result"
    }
   ],
   "source": [
    "# Detalhando a base de dados com moda\n",
    "def check(df):\n",
    "    l = []\n",
    "    colunas = df.columns\n",
    "    \n",
    "    for col in colunas:\n",
    "        dtypes = df[col].dtypes\n",
    "        nunique = df[col].nunique()\n",
    "        sum_null = df[col].isnull().sum()\n",
    "\n",
    "        # Calcula a moda e a frequência da moda\n",
    "        moda = df[col].mode().iloc[0] if not df[col].mode().empty else \"Não se aplica\"\n",
    "        moda_freq = df[col].value_counts().iloc[0] if not df[col].value_counts().empty else \"Não se aplica\"\n",
    "\n",
    "        if np.issubdtype(dtypes, np.number):\n",
    "            status = df.describe(include='all').T\n",
    "            media = status.loc[col, 'mean']\n",
    "            std = status.loc[col, 'std']\n",
    "            min_val = status.loc[col, 'min']\n",
    "            quar1 = status.loc[col, '25%']\n",
    "            mediana = df[col].median()\n",
    "            quar3 = status.loc[col, '75%']\n",
    "            max_val = status.loc[col, 'max']\n",
    "                    \n",
    "        else:\n",
    "            status = \"Não se aplica\"\n",
    "            media = \"Não se aplica\"\n",
    "            std = \"Não se aplica\"\n",
    "            min_val = \"Não se aplica\"\n",
    "            quar1 = \"Não se aplica\"\n",
    "            mediana = \"Não se aplica\"\n",
    "            quar3 = \"Não se aplica\"\n",
    "            max_val = \"Não se aplica\"\n",
    "\n",
    "        l.append([col, dtypes, nunique, sum_null, media, std, min_val, quar1, mediana, quar3, max_val, moda, moda_freq])\n",
    "    \n",
    "    # Criação do DataFrame com as novas colunas\n",
    "    df_check = pd.DataFrame(l)\n",
    "    df_check.columns = ['coluna', 'tipo', 'únicos', 'null_soma', 'media', 'desvio', \n",
    "                        'minimo', '25%', 'mediana', '75%', 'maximo', 'moda', 'frequência_moda']\n",
    "    \n",
    "    return df_check \n",
    "\n",
    "check(dados)"
   ]
  },
  {
   "cell_type": "markdown",
   "metadata": {},
   "source": [
    "### Colunas temporais ('idade', 'data da transação' e 'time_stamp')\n",
    "\n",
    "---\n",
    "\n",
    "Podemos perceber que as colunas temporais precisam de formatações e ajustes.\n",
    "\n",
    "<a href='#índice'>Voltar ao início</a>"
   ]
  },
  {
   "cell_type": "markdown",
   "metadata": {},
   "source": [
    "#### Análise exploratória\n",
    "\n",
    "É possível verificar que as colunas 'idade' e'data_transacao' estão fora do padrão (dd/mm/yyyy)"
   ]
  },
  {
   "cell_type": "code",
   "execution_count": 85,
   "metadata": {},
   "outputs": [
    {
     "data": {
      "text/html": [
       "<div>\n",
       "<style scoped>\n",
       "    .dataframe tbody tr th:only-of-type {\n",
       "        vertical-align: middle;\n",
       "    }\n",
       "\n",
       "    .dataframe tbody tr th {\n",
       "        vertical-align: top;\n",
       "    }\n",
       "\n",
       "    .dataframe thead th {\n",
       "        text-align: right;\n",
       "    }\n",
       "</style>\n",
       "<table border=\"1\" class=\"dataframe\">\n",
       "  <thead>\n",
       "    <tr style=\"text-align: right;\">\n",
       "      <th></th>\n",
       "      <th>id_transacao</th>\n",
       "      <th>id_cliente</th>\n",
       "      <th>idade</th>\n",
       "      <th>genero</th>\n",
       "      <th>localizacao</th>\n",
       "      <th>saldo</th>\n",
       "      <th>data_transacao</th>\n",
       "      <th>time_stamp</th>\n",
       "      <th>quantia_transacao (INR)</th>\n",
       "    </tr>\n",
       "  </thead>\n",
       "  <tbody>\n",
       "    <tr>\n",
       "      <th>980318</th>\n",
       "      <td>T980319</td>\n",
       "      <td>C3139092</td>\n",
       "      <td>25/11/59</td>\n",
       "      <td>M</td>\n",
       "      <td>BANGALORE</td>\n",
       "      <td>43804.28</td>\n",
       "      <td>15/9/16</td>\n",
       "      <td>95717</td>\n",
       "      <td>480.0</td>\n",
       "    </tr>\n",
       "    <tr>\n",
       "      <th>159457</th>\n",
       "      <td>T159458</td>\n",
       "      <td>C5752387</td>\n",
       "      <td>2/7/96</td>\n",
       "      <td>F</td>\n",
       "      <td>CHURACHANDPUR</td>\n",
       "      <td>39.58</td>\n",
       "      <td>4/8/16</td>\n",
       "      <td>110154</td>\n",
       "      <td>45.0</td>\n",
       "    </tr>\n",
       "    <tr>\n",
       "      <th>17899</th>\n",
       "      <td>T17900</td>\n",
       "      <td>C7522819</td>\n",
       "      <td>18/4/96</td>\n",
       "      <td>M</td>\n",
       "      <td>BANGALORE</td>\n",
       "      <td>2058.80</td>\n",
       "      <td>26/9/16</td>\n",
       "      <td>152339</td>\n",
       "      <td>207.0</td>\n",
       "    </tr>\n",
       "  </tbody>\n",
       "</table>\n",
       "</div>"
      ],
      "text/plain": [
       "       id_transacao id_cliente     idade genero    localizacao     saldo  \\\n",
       "980318      T980319   C3139092  25/11/59      M      BANGALORE  43804.28   \n",
       "159457      T159458   C5752387    2/7/96      F  CHURACHANDPUR     39.58   \n",
       "17899        T17900   C7522819   18/4/96      M      BANGALORE   2058.80   \n",
       "\n",
       "       data_transacao  time_stamp  quantia_transacao (INR)  \n",
       "980318        15/9/16       95717                    480.0  \n",
       "159457         4/8/16      110154                     45.0  \n",
       "17899         26/9/16      152339                    207.0  "
      ]
     },
     "execution_count": 85,
     "metadata": {},
     "output_type": "execute_result"
    }
   ],
   "source": [
    "dados.sample(n=3, random_state=17)"
   ]
  },
  {
   "cell_type": "markdown",
   "metadata": {},
   "source": [
    "#### Padronizar as datas\n",
    "\n",
    "Daí a necessidade de padronizar o formato das datas para cálculo posterior"
   ]
  },
  {
   "cell_type": "code",
   "execution_count": 86,
   "metadata": {},
   "outputs": [],
   "source": [
    "# Função para padronizar as datas\n",
    "def padronizar_data(data):\n",
    "    try:\n",
    "        # Divide a data em partes\n",
    "        partes = data.split('/')\n",
    "        if len(partes) != 3:\n",
    "            return None  # Ignorar se a estrutura estiver errada\n",
    "        \n",
    "        dia, mes, ano = partes\n",
    "\n",
    "        # Adiciona zeros à esquerda no dia e mês, se necessário\n",
    "        dia = dia.zfill(2)\n",
    "        mes = mes.zfill(2)\n",
    "\n",
    "        # Ajusta o ano para 4 dígitos, se necessário\n",
    "        if len(ano) == 2:\n",
    "            ano = '19' + ano if int(ano) > 30 else '20' + ano  # Supondo anos acima de 30 como 1900s\n",
    "        \n",
    "        return f\"{dia}/{mes}/{ano}\"\n",
    "   \n",
    "    except Exception as e:\n",
    "        return None\n",
    "\n",
    "# Aplica a função à coluna 'idade'\n",
    "dados['idade'] = dados['idade'].apply(padronizar_data)\n",
    "dados['data_transacao'] = dados['data_transacao'].apply(padronizar_data)"
   ]
  },
  {
   "cell_type": "code",
   "execution_count": 87,
   "metadata": {},
   "outputs": [
    {
     "data": {
      "text/html": [
       "<div>\n",
       "<style scoped>\n",
       "    .dataframe tbody tr th:only-of-type {\n",
       "        vertical-align: middle;\n",
       "    }\n",
       "\n",
       "    .dataframe tbody tr th {\n",
       "        vertical-align: top;\n",
       "    }\n",
       "\n",
       "    .dataframe thead th {\n",
       "        text-align: right;\n",
       "    }\n",
       "</style>\n",
       "<table border=\"1\" class=\"dataframe\">\n",
       "  <thead>\n",
       "    <tr style=\"text-align: right;\">\n",
       "      <th></th>\n",
       "      <th>id_transacao</th>\n",
       "      <th>id_cliente</th>\n",
       "      <th>idade</th>\n",
       "      <th>genero</th>\n",
       "      <th>localizacao</th>\n",
       "      <th>saldo</th>\n",
       "      <th>data_transacao</th>\n",
       "      <th>time_stamp</th>\n",
       "      <th>quantia_transacao (INR)</th>\n",
       "    </tr>\n",
       "  </thead>\n",
       "  <tbody>\n",
       "    <tr>\n",
       "      <th>108180</th>\n",
       "      <td>T108181</td>\n",
       "      <td>C4438247</td>\n",
       "      <td>24/07/1985</td>\n",
       "      <td>M</td>\n",
       "      <td>GURGAON</td>\n",
       "      <td>19751.15</td>\n",
       "      <td>01/08/2016</td>\n",
       "      <td>230016</td>\n",
       "      <td>176.0</td>\n",
       "    </tr>\n",
       "    <tr>\n",
       "      <th>758475</th>\n",
       "      <td>T758476</td>\n",
       "      <td>C7915178</td>\n",
       "      <td>23/05/1978</td>\n",
       "      <td>F</td>\n",
       "      <td>RUPNAGAR</td>\n",
       "      <td>5588.98</td>\n",
       "      <td>01/09/2016</td>\n",
       "      <td>184348</td>\n",
       "      <td>94.0</td>\n",
       "    </tr>\n",
       "    <tr>\n",
       "      <th>143143</th>\n",
       "      <td>T143144</td>\n",
       "      <td>C7820292</td>\n",
       "      <td>01/01/1800</td>\n",
       "      <td>M</td>\n",
       "      <td>MUMBAI</td>\n",
       "      <td>737999.80</td>\n",
       "      <td>05/08/2016</td>\n",
       "      <td>142416</td>\n",
       "      <td>2000.0</td>\n",
       "    </tr>\n",
       "  </tbody>\n",
       "</table>\n",
       "</div>"
      ],
      "text/plain": [
       "       id_transacao id_cliente       idade genero localizacao      saldo  \\\n",
       "108180      T108181   C4438247  24/07/1985      M     GURGAON   19751.15   \n",
       "758475      T758476   C7915178  23/05/1978      F    RUPNAGAR    5588.98   \n",
       "143143      T143144   C7820292  01/01/1800      M      MUMBAI  737999.80   \n",
       "\n",
       "       data_transacao  time_stamp  quantia_transacao (INR)  \n",
       "108180     01/08/2016      230016                    176.0  \n",
       "758475     01/09/2016      184348                     94.0  \n",
       "143143     05/08/2016      142416                   2000.0  "
      ]
     },
     "execution_count": 87,
     "metadata": {},
     "output_type": "execute_result"
    }
   ],
   "source": [
    "dados.sample(n=3, random_state=21)"
   ]
  },
  {
   "cell_type": "markdown",
   "metadata": {},
   "source": [
    "#### Calcular a idade\n",
    "\n",
    "Com as datas padronizadas é possível calcular a idade dos clientes na época das transações."
   ]
  },
  {
   "cell_type": "code",
   "execution_count": 88,
   "metadata": {},
   "outputs": [],
   "source": [
    "# Função para calcular a idade com base na data da transação\n",
    "def calcular_idade_com_transacao(row):\n",
    "    try:\n",
    "        # Converte as strings de data para objetos datetime\n",
    "        data_nascimento = datetime.strptime(row['idade'], '%d/%m/%Y')\n",
    "        data_transacao = datetime.strptime(row['data_transacao'], '%d/%m/%Y')\n",
    "        \n",
    "        # Calcula a idade em anos com base na data da transação\n",
    "        idade = data_transacao.year - data_nascimento.year\n",
    "        \n",
    "        # Ajusta se o aniversário ainda não aconteceu até a data da transação\n",
    "        if (data_transacao.month, data_transacao.day) < (data_nascimento.month, data_nascimento.day):\n",
    "            idade -= 1\n",
    "        \n",
    "        return idade\n",
    "    \n",
    "    except Exception:\n",
    "        return None  # Retorna None se a data for inválida\n",
    "\n",
    "# Aplica a função diretamente sem lambda\n",
    "dados['idade_calculada'] = dados.apply(calcular_idade_com_transacao, axis=1)"
   ]
  },
  {
   "cell_type": "markdown",
   "metadata": {},
   "source": [
    "Podemos perceber que temos idades inválidas (outliers) que teremos que tratar, substituindo pela média (do intervalo válido de dados)"
   ]
  },
  {
   "cell_type": "code",
   "execution_count": 89,
   "metadata": {},
   "outputs": [
    {
     "data": {
      "text/html": [
       "<div>\n",
       "<style scoped>\n",
       "    .dataframe tbody tr th:only-of-type {\n",
       "        vertical-align: middle;\n",
       "    }\n",
       "\n",
       "    .dataframe tbody tr th {\n",
       "        vertical-align: top;\n",
       "    }\n",
       "\n",
       "    .dataframe thead th {\n",
       "        text-align: right;\n",
       "    }\n",
       "</style>\n",
       "<table border=\"1\" class=\"dataframe\">\n",
       "  <thead>\n",
       "    <tr style=\"text-align: right;\">\n",
       "      <th></th>\n",
       "      <th>coluna</th>\n",
       "      <th>tipo</th>\n",
       "      <th>únicos</th>\n",
       "      <th>null_soma</th>\n",
       "      <th>media</th>\n",
       "      <th>desvio</th>\n",
       "      <th>minimo</th>\n",
       "      <th>25%</th>\n",
       "      <th>mediana</th>\n",
       "      <th>75%</th>\n",
       "      <th>maximo</th>\n",
       "      <th>moda</th>\n",
       "      <th>frequência_moda</th>\n",
       "    </tr>\n",
       "  </thead>\n",
       "  <tbody>\n",
       "    <tr>\n",
       "      <th>0</th>\n",
       "      <td>idade_calculada</td>\n",
       "      <td>float64</td>\n",
       "      <td>77</td>\n",
       "      <td>60</td>\n",
       "      <td>40.57668</td>\n",
       "      <td>42.539856</td>\n",
       "      <td>-13.0</td>\n",
       "      <td>25.0</td>\n",
       "      <td>29.0</td>\n",
       "      <td>36.0</td>\n",
       "      <td>216.0</td>\n",
       "      <td>25.0</td>\n",
       "      <td>1092</td>\n",
       "    </tr>\n",
       "  </tbody>\n",
       "</table>\n",
       "</div>"
      ],
      "text/plain": [
       "            coluna     tipo  únicos  null_soma     media     desvio  minimo  \\\n",
       "0  idade_calculada  float64      77         60  40.57668  42.539856   -13.0   \n",
       "\n",
       "    25%  mediana   75%  maximo  moda  frequência_moda  \n",
       "0  25.0     29.0  36.0   216.0  25.0             1092  "
      ]
     },
     "execution_count": 89,
     "metadata": {},
     "output_type": "execute_result"
    }
   ],
   "source": [
    "check(dados[['idade_calculada']])"
   ]
  },
  {
   "cell_type": "markdown",
   "metadata": {},
   "source": [
    "#### Isolar as idades validas\n",
    "\n",
    "Foi escolhido o período entre 122 (idade do ser humano mais velho do mundo) e 10 (idade mínima para abertura de uma conta no banco)\n",
    "\n",
    "*Na India, crianças a partir de 10 anos de idade podem abrir uma conta bancária em seu próprio nome em muitos bancos, mas essas contas têm restrições, como limites de transações e necessidade de supervisão parental."
   ]
  },
  {
   "cell_type": "code",
   "execution_count": 90,
   "metadata": {},
   "outputs": [
    {
     "data": {
      "text/plain": [
       "31"
      ]
     },
     "execution_count": 90,
     "metadata": {},
     "output_type": "execute_result"
    }
   ],
   "source": [
    "idades_validas = dados.loc[dados['idade_calculada'] < 122].loc[dados['idade_calculada'] > 10]\n",
    "\n",
    "media_idades_validas = round(idades_validas['idade_calculada'].mean())\n",
    "\n",
    "media_idades_validas"
   ]
  },
  {
   "cell_type": "code",
   "execution_count": 92,
   "metadata": {},
   "outputs": [],
   "source": [
    "# Preenche os valores nulos na coluna 'idade_calculada' com a média\n",
    "dados['idade_calculada'] = dados['idade_calculada'].fillna(media_idades_validas)"
   ]
  },
  {
   "cell_type": "code",
   "execution_count": 94,
   "metadata": {},
   "outputs": [],
   "source": [
    "dados.reset_index(drop=True, inplace=True)\n",
    "\n",
    "# Substituir idades inválidas e nulas pela média\n",
    "for i in range(len(dados)):\n",
    "    if pd.isnull(dados.at[i, 'idade_calculada']) or dados.at[i, 'idade_calculada'] > 122 or dados.at[i, 'idade_calculada'] < 10:\n",
    "        dados.at[i, 'idade_calculada'] = media_idades_validas\n",
    "\n",
    "# Transformar a idade em 'int'\n",
    "dados['idade_calculada'] = dados['idade_calculada'].astype(int)"
   ]
  },
  {
   "cell_type": "code",
   "execution_count": 96,
   "metadata": {},
   "outputs": [
    {
     "data": {
      "text/html": [
       "<div>\n",
       "<style scoped>\n",
       "    .dataframe tbody tr th:only-of-type {\n",
       "        vertical-align: middle;\n",
       "    }\n",
       "\n",
       "    .dataframe tbody tr th {\n",
       "        vertical-align: top;\n",
       "    }\n",
       "\n",
       "    .dataframe thead th {\n",
       "        text-align: right;\n",
       "    }\n",
       "</style>\n",
       "<table border=\"1\" class=\"dataframe\">\n",
       "  <thead>\n",
       "    <tr style=\"text-align: right;\">\n",
       "      <th></th>\n",
       "      <th>id_transacao</th>\n",
       "      <th>id_cliente</th>\n",
       "      <th>idade</th>\n",
       "      <th>genero</th>\n",
       "      <th>localizacao</th>\n",
       "      <th>saldo</th>\n",
       "      <th>data_transacao</th>\n",
       "      <th>time_stamp</th>\n",
       "      <th>quantia_transacao (INR)</th>\n",
       "      <th>idade_calculada</th>\n",
       "    </tr>\n",
       "  </thead>\n",
       "  <tbody>\n",
       "    <tr>\n",
       "      <th>227</th>\n",
       "      <td>T466341</td>\n",
       "      <td>C5041333</td>\n",
       "      <td>None</td>\n",
       "      <td>F</td>\n",
       "      <td>BENGALURU</td>\n",
       "      <td>0.00</td>\n",
       "      <td>21/08/2016</td>\n",
       "      <td>193831</td>\n",
       "      <td>1098.0</td>\n",
       "      <td>31</td>\n",
       "    </tr>\n",
       "    <tr>\n",
       "      <th>438</th>\n",
       "      <td>T829297</td>\n",
       "      <td>C6377342</td>\n",
       "      <td>None</td>\n",
       "      <td>F</td>\n",
       "      <td>BANGALORE</td>\n",
       "      <td>110637.14</td>\n",
       "      <td>04/09/2016</td>\n",
       "      <td>154342</td>\n",
       "      <td>2569.0</td>\n",
       "      <td>31</td>\n",
       "    </tr>\n",
       "    <tr>\n",
       "      <th>7946</th>\n",
       "      <td>T626687</td>\n",
       "      <td>C5426018</td>\n",
       "      <td>None</td>\n",
       "      <td>M</td>\n",
       "      <td>DELHI</td>\n",
       "      <td>177.73</td>\n",
       "      <td>29/08/2016</td>\n",
       "      <td>145612</td>\n",
       "      <td>2000.0</td>\n",
       "      <td>31</td>\n",
       "    </tr>\n",
       "  </tbody>\n",
       "</table>\n",
       "</div>"
      ],
      "text/plain": [
       "     id_transacao id_cliente idade genero localizacao      saldo  \\\n",
       "227       T466341   C5041333  None      F   BENGALURU       0.00   \n",
       "438       T829297   C6377342  None      F   BANGALORE  110637.14   \n",
       "7946      T626687   C5426018  None      M       DELHI     177.73   \n",
       "\n",
       "     data_transacao  time_stamp  quantia_transacao (INR)  idade_calculada  \n",
       "227      21/08/2016      193831                   1098.0               31  \n",
       "438      04/09/2016      154342                   2569.0               31  \n",
       "7946     29/08/2016      145612                   2000.0               31  "
      ]
     },
     "execution_count": 96,
     "metadata": {},
     "output_type": "execute_result"
    }
   ],
   "source": [
    "dados.loc[dados['idade'].isnull()].sort_values(by='idade_calculada', ascending=False).head(3)"
   ]
  },
  {
   "cell_type": "markdown",
   "metadata": {},
   "source": [
    "Podemos verificar que as idades estão variando de 11 a 85 anos. Todas idades consideradas legalmente válidas."
   ]
  },
  {
   "cell_type": "code",
   "execution_count": 97,
   "metadata": {},
   "outputs": [
    {
     "data": {
      "text/html": [
       "<div>\n",
       "<style scoped>\n",
       "    .dataframe tbody tr th:only-of-type {\n",
       "        vertical-align: middle;\n",
       "    }\n",
       "\n",
       "    .dataframe tbody tr th {\n",
       "        vertical-align: top;\n",
       "    }\n",
       "\n",
       "    .dataframe thead th {\n",
       "        text-align: right;\n",
       "    }\n",
       "</style>\n",
       "<table border=\"1\" class=\"dataframe\">\n",
       "  <thead>\n",
       "    <tr style=\"text-align: right;\">\n",
       "      <th></th>\n",
       "      <th>coluna</th>\n",
       "      <th>tipo</th>\n",
       "      <th>únicos</th>\n",
       "      <th>null_soma</th>\n",
       "      <th>media</th>\n",
       "      <th>desvio</th>\n",
       "      <th>minimo</th>\n",
       "      <th>25%</th>\n",
       "      <th>mediana</th>\n",
       "      <th>75%</th>\n",
       "      <th>maximo</th>\n",
       "      <th>moda</th>\n",
       "      <th>frequência_moda</th>\n",
       "    </tr>\n",
       "  </thead>\n",
       "  <tbody>\n",
       "    <tr>\n",
       "      <th>0</th>\n",
       "      <td>idade_calculada</td>\n",
       "      <td>int32</td>\n",
       "      <td>70</td>\n",
       "      <td>0</td>\n",
       "      <td>30.708309</td>\n",
       "      <td>8.498054</td>\n",
       "      <td>12.0</td>\n",
       "      <td>25.0</td>\n",
       "      <td>29.0</td>\n",
       "      <td>34.0</td>\n",
       "      <td>84.0</td>\n",
       "      <td>31</td>\n",
       "      <td>1584</td>\n",
       "    </tr>\n",
       "  </tbody>\n",
       "</table>\n",
       "</div>"
      ],
      "text/plain": [
       "            coluna   tipo  únicos  null_soma      media    desvio  minimo  \\\n",
       "0  idade_calculada  int32      70          0  30.708309  8.498054    12.0   \n",
       "\n",
       "    25%  mediana   75%  maximo  moda  frequência_moda  \n",
       "0  25.0     29.0  34.0    84.0    31             1584  "
      ]
     },
     "execution_count": 97,
     "metadata": {},
     "output_type": "execute_result"
    }
   ],
   "source": [
    "check(dados[['idade_calculada']])"
   ]
  },
  {
   "cell_type": "markdown",
   "metadata": {},
   "source": [
    "#### Coluna 'time_stamp'\n",
    "\n",
    "Em 'time_stamp' temos a quantidade de segundos que se passaram desde a data da transação. Com isso, é possível saber a hora que a transação ocorreu."
   ]
  },
  {
   "cell_type": "code",
   "execution_count": 98,
   "metadata": {},
   "outputs": [],
   "source": [
    "# Converter a coluna 'data' para datetime\n",
    "dados['data_transacao'] = pd.to_datetime(dados['data_transacao'], format='%d/%m/%Y')\n",
    "\n",
    "# Adicionar o 'time_stamp' (segundos) à data\n",
    "dados['hora_transacao'] = dados['data_transacao'] + pd.to_timedelta(dados['time_stamp'], unit='s')\n",
    "dados['hora_transacao'] = dados['hora_transacao'].dt.strftime('%H:%M:%S')"
   ]
  },
  {
   "cell_type": "code",
   "execution_count": 99,
   "metadata": {},
   "outputs": [
    {
     "data": {
      "text/html": [
       "<div>\n",
       "<style scoped>\n",
       "    .dataframe tbody tr th:only-of-type {\n",
       "        vertical-align: middle;\n",
       "    }\n",
       "\n",
       "    .dataframe tbody tr th {\n",
       "        vertical-align: top;\n",
       "    }\n",
       "\n",
       "    .dataframe thead th {\n",
       "        text-align: right;\n",
       "    }\n",
       "</style>\n",
       "<table border=\"1\" class=\"dataframe\">\n",
       "  <thead>\n",
       "    <tr style=\"text-align: right;\">\n",
       "      <th></th>\n",
       "      <th>id_transacao</th>\n",
       "      <th>id_cliente</th>\n",
       "      <th>idade</th>\n",
       "      <th>genero</th>\n",
       "      <th>localizacao</th>\n",
       "      <th>saldo</th>\n",
       "      <th>data_transacao</th>\n",
       "      <th>time_stamp</th>\n",
       "      <th>quantia_transacao (INR)</th>\n",
       "      <th>idade_calculada</th>\n",
       "      <th>hora_transacao</th>\n",
       "    </tr>\n",
       "  </thead>\n",
       "  <tbody>\n",
       "    <tr>\n",
       "      <th>13733</th>\n",
       "      <td>T108181</td>\n",
       "      <td>C4438247</td>\n",
       "      <td>24/07/1985</td>\n",
       "      <td>M</td>\n",
       "      <td>GURGAON</td>\n",
       "      <td>19751.15</td>\n",
       "      <td>2016-08-01</td>\n",
       "      <td>230016</td>\n",
       "      <td>176.0</td>\n",
       "      <td>31</td>\n",
       "      <td>15:53:36</td>\n",
       "    </tr>\n",
       "    <tr>\n",
       "      <th>14850</th>\n",
       "      <td>T758476</td>\n",
       "      <td>C7915178</td>\n",
       "      <td>23/05/1978</td>\n",
       "      <td>F</td>\n",
       "      <td>RUPNAGAR</td>\n",
       "      <td>5588.98</td>\n",
       "      <td>2016-09-01</td>\n",
       "      <td>184348</td>\n",
       "      <td>94.0</td>\n",
       "      <td>38</td>\n",
       "      <td>03:12:28</td>\n",
       "    </tr>\n",
       "    <tr>\n",
       "      <th>132</th>\n",
       "      <td>T143144</td>\n",
       "      <td>C7820292</td>\n",
       "      <td>01/01/1800</td>\n",
       "      <td>M</td>\n",
       "      <td>MUMBAI</td>\n",
       "      <td>737999.80</td>\n",
       "      <td>2016-08-05</td>\n",
       "      <td>142416</td>\n",
       "      <td>2000.0</td>\n",
       "      <td>31</td>\n",
       "      <td>15:33:36</td>\n",
       "    </tr>\n",
       "  </tbody>\n",
       "</table>\n",
       "</div>"
      ],
      "text/plain": [
       "      id_transacao id_cliente       idade genero localizacao      saldo  \\\n",
       "13733      T108181   C4438247  24/07/1985      M     GURGAON   19751.15   \n",
       "14850      T758476   C7915178  23/05/1978      F    RUPNAGAR    5588.98   \n",
       "132        T143144   C7820292  01/01/1800      M      MUMBAI  737999.80   \n",
       "\n",
       "      data_transacao  time_stamp  quantia_transacao (INR)  idade_calculada  \\\n",
       "13733     2016-08-01      230016                    176.0               31   \n",
       "14850     2016-09-01      184348                     94.0               38   \n",
       "132       2016-08-05      142416                   2000.0               31   \n",
       "\n",
       "      hora_transacao  \n",
       "13733       15:53:36  \n",
       "14850       03:12:28  \n",
       "132         15:33:36  "
      ]
     },
     "execution_count": 99,
     "metadata": {},
     "output_type": "execute_result"
    }
   ],
   "source": [
    "dados.sample(n=3, random_state=21)"
   ]
  },
  {
   "cell_type": "markdown",
   "metadata": {},
   "source": [
    "### Colunas categóricas\n",
    "\n",
    "---\n",
    "\n",
    "As colunas categóricas possuem muitos dados nulos que necessitam de tratamento.\n",
    "\n",
    "<a href='#índice'>Voltar ao início</a>"
   ]
  },
  {
   "cell_type": "markdown",
   "metadata": {},
   "source": [
    "#### Coluna 'gênero'"
   ]
  },
  {
   "cell_type": "code",
   "execution_count": 100,
   "metadata": {},
   "outputs": [
    {
     "data": {
      "text/plain": [
       "count     15713\n",
       "unique        2\n",
       "top           M\n",
       "freq      11581\n",
       "Name: genero, dtype: object"
      ]
     },
     "execution_count": 100,
     "metadata": {},
     "output_type": "execute_result"
    }
   ],
   "source": [
    "dados['genero'].describe()"
   ]
  },
  {
   "cell_type": "markdown",
   "metadata": {},
   "source": [
    "Pode-se ver que existem dados NAN"
   ]
  },
  {
   "cell_type": "code",
   "execution_count": 101,
   "metadata": {},
   "outputs": [
    {
     "data": {
      "text/plain": [
       "array(['F', 'M', nan], dtype=object)"
      ]
     },
     "execution_count": 101,
     "metadata": {},
     "output_type": "execute_result"
    }
   ],
   "source": [
    "dados['genero'].unique()"
   ]
  },
  {
   "cell_type": "markdown",
   "metadata": {},
   "source": [
    "Observa-se que possui muitos dados nulos"
   ]
  },
  {
   "cell_type": "code",
   "execution_count": 102,
   "metadata": {},
   "outputs": [
    {
     "data": {
      "text/plain": [
       "16"
      ]
     },
     "execution_count": 102,
     "metadata": {},
     "output_type": "execute_result"
    }
   ],
   "source": [
    "dados['genero'].isnull().sum()"
   ]
  },
  {
   "cell_type": "markdown",
   "metadata": {},
   "source": [
    "##### Verificando a distribuição dos grupos e a moda"
   ]
  },
  {
   "cell_type": "code",
   "execution_count": 103,
   "metadata": {},
   "outputs": [
    {
     "data": {
      "text/plain": [
       "genero\n",
       "M    11581\n",
       "F     4132\n",
       "Name: count, dtype: int64"
      ]
     },
     "execution_count": 103,
     "metadata": {},
     "output_type": "execute_result"
    }
   ],
   "source": [
    "dados['genero'].value_counts()"
   ]
  },
  {
   "cell_type": "markdown",
   "metadata": {},
   "source": [
    "Para os dados NAN, optou-se por distribuí-los propocionalmente, de modo a não afetar a média"
   ]
  },
  {
   "cell_type": "code",
   "execution_count": 104,
   "metadata": {},
   "outputs": [],
   "source": [
    "# Calcular a proporção dos valores 'M' e 'F' para substituição dos NaN\n",
    "proporcao_M = dados['genero'].value_counts(normalize=True).get('M', 0)\n",
    "proporcao_F = dados['genero'].value_counts(normalize=True).get('F', 0)\n",
    "\n",
    "# Substituir os NaN com base na proporção\n",
    "num_NA = dados['genero'].isna().sum()\n",
    "\n",
    "# Gerar um array de substituições baseadas nas proporções\n",
    "substituicoes = np.random.choice(['M', 'F'], size=num_NA, p=[proporcao_M, proporcao_F])\n",
    "\n",
    "# Substituir os valores NaN\n",
    "dados.loc[dados['genero'].isna(), 'genero'] = substituicoes"
   ]
  },
  {
   "cell_type": "code",
   "execution_count": 105,
   "metadata": {},
   "outputs": [
    {
     "data": {
      "text/plain": [
       "genero\n",
       "M    11589\n",
       "F     4140\n",
       "Name: count, dtype: int64"
      ]
     },
     "execution_count": 105,
     "metadata": {},
     "output_type": "execute_result"
    }
   ],
   "source": [
    "dados['genero'].value_counts()"
   ]
  },
  {
   "cell_type": "code",
   "execution_count": 106,
   "metadata": {},
   "outputs": [
    {
     "data": {
      "text/plain": [
       "0"
      ]
     },
     "execution_count": 106,
     "metadata": {},
     "output_type": "execute_result"
    }
   ],
   "source": [
    "dados['genero'].isnull().sum()"
   ]
  },
  {
   "cell_type": "markdown",
   "metadata": {},
   "source": [
    "#### Coluna 'localizacao'\n",
    "\n",
    "Esta coluna possui um número grande de categorias e ainda possui dados nulos que necessitam de tratamento."
   ]
  },
  {
   "cell_type": "code",
   "execution_count": 107,
   "metadata": {},
   "outputs": [
    {
     "data": {
      "text/plain": [
       "count      15728\n",
       "unique      1644\n",
       "top       MUMBAI\n",
       "freq        1570\n",
       "Name: localizacao, dtype: object"
      ]
     },
     "execution_count": 107,
     "metadata": {},
     "output_type": "execute_result"
    }
   ],
   "source": [
    "dados['localizacao'].describe()"
   ]
  },
  {
   "cell_type": "code",
   "execution_count": 108,
   "metadata": {},
   "outputs": [
    {
     "data": {
      "text/plain": [
       "array(['NEW DELHI', 'GURGAON', 'KALYAN', ..., 'E G DIST (EAST GODAVARI)',\n",
       "       'ALDONA', 'RR DIST'], dtype=object)"
      ]
     },
     "execution_count": 108,
     "metadata": {},
     "output_type": "execute_result"
    }
   ],
   "source": [
    "dados['localizacao'].unique()"
   ]
  },
  {
   "cell_type": "code",
   "execution_count": 109,
   "metadata": {},
   "outputs": [
    {
     "data": {
      "text/plain": [
       "1"
      ]
     },
     "execution_count": 109,
     "metadata": {},
     "output_type": "execute_result"
    }
   ],
   "source": [
    "dados['localizacao'].isnull().sum()"
   ]
  },
  {
   "cell_type": "code",
   "execution_count": 110,
   "metadata": {},
   "outputs": [
    {
     "data": {
      "text/plain": [
       "localizacao\n",
       "MUMBAI                       1570\n",
       "NEW DELHI                    1269\n",
       "BANGALORE                    1220\n",
       "GURGAON                      1079\n",
       "DELHI                        1042\n",
       "                             ... \n",
       "MULUND W MUMBAI                 1\n",
       "OT CHENNAI                      1\n",
       "UTTAR DINAJPUR                  1\n",
       "VIRGONAGAR POST BANGALORE       1\n",
       "RR DIST                         1\n",
       "Name: count, Length: 1644, dtype: int64"
      ]
     },
     "execution_count": 110,
     "metadata": {},
     "output_type": "execute_result"
    }
   ],
   "source": [
    "dados['localizacao'].value_counts()"
   ]
  },
  {
   "cell_type": "markdown",
   "metadata": {},
   "source": [
    "Como são poucos dados nulos (em comparação com o tamanho do dataset), optou-se por incluí-los na moda 'MUMBAI'"
   ]
  },
  {
   "cell_type": "code",
   "execution_count": 111,
   "metadata": {},
   "outputs": [
    {
     "name": "stdout",
     "output_type": "stream",
     "text": [
      "0\n"
     ]
    }
   ],
   "source": [
    "# Substituir os valores nulos pela moda da coluna 'localizacao'\n",
    "moda_localizacao = dados['localizacao'].mode()[0]  # Calcula a moda da coluna\n",
    "\n",
    "# Substituir valores nulos (NaN) pela moda sem o inplace\n",
    "dados['localizacao'] = dados['localizacao'].fillna(moda_localizacao)\n",
    "\n",
    "# Verificar o resultado\n",
    "print(dados['localizacao'].isnull().sum())  # Deve retornar 0, pois todos os NaNs foram substituídos"
   ]
  },
  {
   "cell_type": "code",
   "execution_count": 112,
   "metadata": {},
   "outputs": [
    {
     "data": {
      "text/html": [
       "<div>\n",
       "<style scoped>\n",
       "    .dataframe tbody tr th:only-of-type {\n",
       "        vertical-align: middle;\n",
       "    }\n",
       "\n",
       "    .dataframe tbody tr th {\n",
       "        vertical-align: top;\n",
       "    }\n",
       "\n",
       "    .dataframe thead th {\n",
       "        text-align: right;\n",
       "    }\n",
       "</style>\n",
       "<table border=\"1\" class=\"dataframe\">\n",
       "  <thead>\n",
       "    <tr style=\"text-align: right;\">\n",
       "      <th></th>\n",
       "      <th>coluna</th>\n",
       "      <th>tipo</th>\n",
       "      <th>únicos</th>\n",
       "      <th>null_soma</th>\n",
       "      <th>media</th>\n",
       "      <th>desvio</th>\n",
       "      <th>minimo</th>\n",
       "      <th>25%</th>\n",
       "      <th>mediana</th>\n",
       "      <th>75%</th>\n",
       "      <th>maximo</th>\n",
       "      <th>moda</th>\n",
       "      <th>frequência_moda</th>\n",
       "    </tr>\n",
       "  </thead>\n",
       "  <tbody>\n",
       "    <tr>\n",
       "      <th>0</th>\n",
       "      <td>localizacao</td>\n",
       "      <td>object</td>\n",
       "      <td>1644</td>\n",
       "      <td>0</td>\n",
       "      <td>Não se aplica</td>\n",
       "      <td>Não se aplica</td>\n",
       "      <td>Não se aplica</td>\n",
       "      <td>Não se aplica</td>\n",
       "      <td>Não se aplica</td>\n",
       "      <td>Não se aplica</td>\n",
       "      <td>Não se aplica</td>\n",
       "      <td>MUMBAI</td>\n",
       "      <td>1571</td>\n",
       "    </tr>\n",
       "  </tbody>\n",
       "</table>\n",
       "</div>"
      ],
      "text/plain": [
       "        coluna    tipo  únicos  null_soma          media         desvio  \\\n",
       "0  localizacao  object    1644          0  Não se aplica  Não se aplica   \n",
       "\n",
       "          minimo            25%        mediana            75%         maximo  \\\n",
       "0  Não se aplica  Não se aplica  Não se aplica  Não se aplica  Não se aplica   \n",
       "\n",
       "     moda  frequência_moda  \n",
       "0  MUMBAI             1571  "
      ]
     },
     "execution_count": 112,
     "metadata": {},
     "output_type": "execute_result"
    }
   ],
   "source": [
    "check(dados[['localizacao']])"
   ]
  },
  {
   "cell_type": "markdown",
   "metadata": {},
   "source": [
    "### Colunas numéricas\n",
    "\n",
    "---\n",
    "\n",
    "Colunas como 'saldo' e 'quantia_transacao' também possuem valores nulos que necessitam de tratamento.\n",
    "\n",
    "<a href='#índice'>Voltar ao início</a>"
   ]
  },
  {
   "cell_type": "markdown",
   "metadata": {},
   "source": [
    "#### Coluna 'saldo'\n",
    "\n",
    "É possível perceber que existem muitos dados nulos."
   ]
  },
  {
   "cell_type": "code",
   "execution_count": 113,
   "metadata": {},
   "outputs": [
    {
     "data": {
      "text/html": [
       "<div>\n",
       "<style scoped>\n",
       "    .dataframe tbody tr th:only-of-type {\n",
       "        vertical-align: middle;\n",
       "    }\n",
       "\n",
       "    .dataframe tbody tr th {\n",
       "        vertical-align: top;\n",
       "    }\n",
       "\n",
       "    .dataframe thead th {\n",
       "        text-align: right;\n",
       "    }\n",
       "</style>\n",
       "<table border=\"1\" class=\"dataframe\">\n",
       "  <thead>\n",
       "    <tr style=\"text-align: right;\">\n",
       "      <th></th>\n",
       "      <th>coluna</th>\n",
       "      <th>tipo</th>\n",
       "      <th>únicos</th>\n",
       "      <th>null_soma</th>\n",
       "      <th>media</th>\n",
       "      <th>desvio</th>\n",
       "      <th>minimo</th>\n",
       "      <th>25%</th>\n",
       "      <th>mediana</th>\n",
       "      <th>75%</th>\n",
       "      <th>maximo</th>\n",
       "      <th>moda</th>\n",
       "      <th>frequência_moda</th>\n",
       "    </tr>\n",
       "  </thead>\n",
       "  <tbody>\n",
       "    <tr>\n",
       "      <th>0</th>\n",
       "      <td>saldo</td>\n",
       "      <td>float64</td>\n",
       "      <td>13996</td>\n",
       "      <td>35</td>\n",
       "      <td>104526.834465</td>\n",
       "      <td>457855.109357</td>\n",
       "      <td>0.0</td>\n",
       "      <td>4688.615</td>\n",
       "      <td>16609.17</td>\n",
       "      <td>56232.4425</td>\n",
       "      <td>17772978.13</td>\n",
       "      <td>0.0</td>\n",
       "      <td>46</td>\n",
       "    </tr>\n",
       "  </tbody>\n",
       "</table>\n",
       "</div>"
      ],
      "text/plain": [
       "  coluna     tipo  únicos  null_soma          media         desvio  minimo  \\\n",
       "0  saldo  float64   13996         35  104526.834465  457855.109357     0.0   \n",
       "\n",
       "        25%   mediana         75%       maximo  moda  frequência_moda  \n",
       "0  4688.615  16609.17  56232.4425  17772978.13   0.0               46  "
      ]
     },
     "execution_count": 113,
     "metadata": {},
     "output_type": "execute_result"
    }
   ],
   "source": [
    "check(dados[['saldo']])"
   ]
  },
  {
   "cell_type": "code",
   "execution_count": 114,
   "metadata": {},
   "outputs": [
    {
     "data": {
      "text/plain": [
       "35"
      ]
     },
     "execution_count": 114,
     "metadata": {},
     "output_type": "execute_result"
    }
   ],
   "source": [
    "dados['saldo'].isnull().sum()"
   ]
  },
  {
   "cell_type": "code",
   "execution_count": 115,
   "metadata": {},
   "outputs": [
    {
     "data": {
      "text/html": [
       "<div>\n",
       "<style scoped>\n",
       "    .dataframe tbody tr th:only-of-type {\n",
       "        vertical-align: middle;\n",
       "    }\n",
       "\n",
       "    .dataframe tbody tr th {\n",
       "        vertical-align: top;\n",
       "    }\n",
       "\n",
       "    .dataframe thead th {\n",
       "        text-align: right;\n",
       "    }\n",
       "</style>\n",
       "<table border=\"1\" class=\"dataframe\">\n",
       "  <thead>\n",
       "    <tr style=\"text-align: right;\">\n",
       "      <th></th>\n",
       "      <th>id_transacao</th>\n",
       "      <th>id_cliente</th>\n",
       "      <th>idade</th>\n",
       "      <th>genero</th>\n",
       "      <th>localizacao</th>\n",
       "      <th>saldo</th>\n",
       "      <th>data_transacao</th>\n",
       "      <th>time_stamp</th>\n",
       "      <th>quantia_transacao (INR)</th>\n",
       "      <th>idade_calculada</th>\n",
       "      <th>hora_transacao</th>\n",
       "    </tr>\n",
       "  </thead>\n",
       "  <tbody>\n",
       "    <tr>\n",
       "      <th>8381</th>\n",
       "      <td>T210118</td>\n",
       "      <td>C8223079</td>\n",
       "      <td>01/01/1800</td>\n",
       "      <td>M</td>\n",
       "      <td>CHENNAI</td>\n",
       "      <td>0.0</td>\n",
       "      <td>2016-09-03</td>\n",
       "      <td>141336</td>\n",
       "      <td>2520.0</td>\n",
       "      <td>31</td>\n",
       "      <td>15:15:36</td>\n",
       "    </tr>\n",
       "    <tr>\n",
       "      <th>9494</th>\n",
       "      <td>T248822</td>\n",
       "      <td>C8377225</td>\n",
       "      <td>17/03/1989</td>\n",
       "      <td>F</td>\n",
       "      <td>SHIMLA</td>\n",
       "      <td>0.0</td>\n",
       "      <td>2016-08-12</td>\n",
       "      <td>93418</td>\n",
       "      <td>200.0</td>\n",
       "      <td>27</td>\n",
       "      <td>01:56:58</td>\n",
       "    </tr>\n",
       "    <tr>\n",
       "      <th>2953</th>\n",
       "      <td>T887035</td>\n",
       "      <td>C6828762</td>\n",
       "      <td>25/02/1995</td>\n",
       "      <td>M</td>\n",
       "      <td>CHENNAI</td>\n",
       "      <td>0.0</td>\n",
       "      <td>2016-09-07</td>\n",
       "      <td>221746</td>\n",
       "      <td>1690.0</td>\n",
       "      <td>21</td>\n",
       "      <td>13:35:46</td>\n",
       "    </tr>\n",
       "  </tbody>\n",
       "</table>\n",
       "</div>"
      ],
      "text/plain": [
       "     id_transacao id_cliente       idade genero localizacao  saldo  \\\n",
       "8381      T210118   C8223079  01/01/1800      M     CHENNAI    0.0   \n",
       "9494      T248822   C8377225  17/03/1989      F      SHIMLA    0.0   \n",
       "2953      T887035   C6828762  25/02/1995      M     CHENNAI    0.0   \n",
       "\n",
       "     data_transacao  time_stamp  quantia_transacao (INR)  idade_calculada  \\\n",
       "8381     2016-09-03      141336                   2520.0               31   \n",
       "9494     2016-08-12       93418                    200.0               27   \n",
       "2953     2016-09-07      221746                   1690.0               21   \n",
       "\n",
       "     hora_transacao  \n",
       "8381       15:15:36  \n",
       "9494       01:56:58  \n",
       "2953       13:35:46  "
      ]
     },
     "execution_count": 115,
     "metadata": {},
     "output_type": "execute_result"
    }
   ],
   "source": [
    "dados.sort_values(by='saldo', ascending=True).head(3)"
   ]
  },
  {
   "cell_type": "code",
   "execution_count": 116,
   "metadata": {},
   "outputs": [
    {
     "data": {
      "text/html": [
       "<div>\n",
       "<style scoped>\n",
       "    .dataframe tbody tr th:only-of-type {\n",
       "        vertical-align: middle;\n",
       "    }\n",
       "\n",
       "    .dataframe tbody tr th {\n",
       "        vertical-align: top;\n",
       "    }\n",
       "\n",
       "    .dataframe thead th {\n",
       "        text-align: right;\n",
       "    }\n",
       "</style>\n",
       "<table border=\"1\" class=\"dataframe\">\n",
       "  <thead>\n",
       "    <tr style=\"text-align: right;\">\n",
       "      <th></th>\n",
       "      <th>id_transacao</th>\n",
       "      <th>id_cliente</th>\n",
       "      <th>idade</th>\n",
       "      <th>genero</th>\n",
       "      <th>localizacao</th>\n",
       "      <th>saldo</th>\n",
       "      <th>data_transacao</th>\n",
       "      <th>time_stamp</th>\n",
       "      <th>quantia_transacao (INR)</th>\n",
       "      <th>idade_calculada</th>\n",
       "      <th>hora_transacao</th>\n",
       "    </tr>\n",
       "  </thead>\n",
       "  <tbody>\n",
       "    <tr>\n",
       "      <th>7389</th>\n",
       "      <td>T552644</td>\n",
       "      <td>C6637939</td>\n",
       "      <td>01/01/1800</td>\n",
       "      <td>M</td>\n",
       "      <td>KOLKATA</td>\n",
       "      <td>17772978.13</td>\n",
       "      <td>2016-08-22</td>\n",
       "      <td>3509</td>\n",
       "      <td>17726.00</td>\n",
       "      <td>31</td>\n",
       "      <td>00:58:29</td>\n",
       "    </tr>\n",
       "    <tr>\n",
       "      <th>13111</th>\n",
       "      <td>T460541</td>\n",
       "      <td>C3837962</td>\n",
       "      <td>01/01/1800</td>\n",
       "      <td>M</td>\n",
       "      <td>KOLKATA</td>\n",
       "      <td>17772978.13</td>\n",
       "      <td>2016-08-21</td>\n",
       "      <td>150744</td>\n",
       "      <td>12116.18</td>\n",
       "      <td>31</td>\n",
       "      <td>17:52:24</td>\n",
       "    </tr>\n",
       "    <tr>\n",
       "      <th>6495</th>\n",
       "      <td>T765085</td>\n",
       "      <td>C3126564</td>\n",
       "      <td>27/10/1970</td>\n",
       "      <td>M</td>\n",
       "      <td>MUMBAI</td>\n",
       "      <td>15544215.36</td>\n",
       "      <td>2016-09-01</td>\n",
       "      <td>132353</td>\n",
       "      <td>331.00</td>\n",
       "      <td>45</td>\n",
       "      <td>12:45:53</td>\n",
       "    </tr>\n",
       "  </tbody>\n",
       "</table>\n",
       "</div>"
      ],
      "text/plain": [
       "      id_transacao id_cliente       idade genero localizacao        saldo  \\\n",
       "7389       T552644   C6637939  01/01/1800      M     KOLKATA  17772978.13   \n",
       "13111      T460541   C3837962  01/01/1800      M     KOLKATA  17772978.13   \n",
       "6495       T765085   C3126564  27/10/1970      M      MUMBAI  15544215.36   \n",
       "\n",
       "      data_transacao  time_stamp  quantia_transacao (INR)  idade_calculada  \\\n",
       "7389      2016-08-22        3509                 17726.00               31   \n",
       "13111     2016-08-21      150744                 12116.18               31   \n",
       "6495      2016-09-01      132353                   331.00               45   \n",
       "\n",
       "      hora_transacao  \n",
       "7389        00:58:29  \n",
       "13111       17:52:24  \n",
       "6495        12:45:53  "
      ]
     },
     "execution_count": 116,
     "metadata": {},
     "output_type": "execute_result"
    }
   ],
   "source": [
    "dados.sort_values(by='saldo', ascending=False).head(3)"
   ]
  },
  {
   "cell_type": "markdown",
   "metadata": {},
   "source": [
    "O saldo varia entre 0 e 115.035.495,1 rupias indianas. Ambos os valores são válidos, portanto não temos outliers (dados nulos ou impossíveis)\n",
    "\n",
    "Apesar de ser números válidos, se apresente com um intervalo muito grande para utilizar a média, por isso optou-se por substituir os valores NAN pela mediana dos dados válidos."
   ]
  },
  {
   "cell_type": "code",
   "execution_count": 117,
   "metadata": {},
   "outputs": [
    {
     "name": "stdout",
     "output_type": "stream",
     "text": [
      "0\n"
     ]
    }
   ],
   "source": [
    "# Substituir valores NaN pela mediana da coluna 'saldo'\n",
    "mediana_saldo = dados['saldo'].median()  # Calcula a mediana da coluna\n",
    "\n",
    "# Substitui os NaN pela mediana\n",
    "dados['saldo'] = dados['saldo'].fillna(mediana_saldo)\n",
    "\n",
    "# Verificar se ainda há valores NaN\n",
    "print(dados['saldo'].isnull().sum())  # Deve retornar 0, se todos os NaNs foram substituídos"
   ]
  },
  {
   "cell_type": "markdown",
   "metadata": {},
   "source": [
    "Não há mais dados nulos no dataset (considerando que a coluna 'idade' foi tratada em 'idade_calculada')"
   ]
  },
  {
   "cell_type": "code",
   "execution_count": 118,
   "metadata": {},
   "outputs": [
    {
     "data": {
      "text/html": [
       "<div>\n",
       "<style scoped>\n",
       "    .dataframe tbody tr th:only-of-type {\n",
       "        vertical-align: middle;\n",
       "    }\n",
       "\n",
       "    .dataframe tbody tr th {\n",
       "        vertical-align: top;\n",
       "    }\n",
       "\n",
       "    .dataframe thead th {\n",
       "        text-align: right;\n",
       "    }\n",
       "</style>\n",
       "<table border=\"1\" class=\"dataframe\">\n",
       "  <thead>\n",
       "    <tr style=\"text-align: right;\">\n",
       "      <th></th>\n",
       "      <th>coluna</th>\n",
       "      <th>tipo</th>\n",
       "      <th>únicos</th>\n",
       "      <th>null_soma</th>\n",
       "      <th>media</th>\n",
       "      <th>desvio</th>\n",
       "      <th>minimo</th>\n",
       "      <th>25%</th>\n",
       "      <th>mediana</th>\n",
       "      <th>75%</th>\n",
       "      <th>maximo</th>\n",
       "      <th>moda</th>\n",
       "      <th>frequência_moda</th>\n",
       "    </tr>\n",
       "  </thead>\n",
       "  <tbody>\n",
       "    <tr>\n",
       "      <th>0</th>\n",
       "      <td>id_transacao</td>\n",
       "      <td>object</td>\n",
       "      <td>15729</td>\n",
       "      <td>0</td>\n",
       "      <td>Não se aplica</td>\n",
       "      <td>Não se aplica</td>\n",
       "      <td>Não se aplica</td>\n",
       "      <td>Não se aplica</td>\n",
       "      <td>Não se aplica</td>\n",
       "      <td>Não se aplica</td>\n",
       "      <td>Não se aplica</td>\n",
       "      <td>T1000106</td>\n",
       "      <td>1</td>\n",
       "    </tr>\n",
       "    <tr>\n",
       "      <th>1</th>\n",
       "      <td>id_cliente</td>\n",
       "      <td>object</td>\n",
       "      <td>15693</td>\n",
       "      <td>0</td>\n",
       "      <td>Não se aplica</td>\n",
       "      <td>Não se aplica</td>\n",
       "      <td>Não se aplica</td>\n",
       "      <td>Não se aplica</td>\n",
       "      <td>Não se aplica</td>\n",
       "      <td>Não se aplica</td>\n",
       "      <td>Não se aplica</td>\n",
       "      <td>C1028915</td>\n",
       "      <td>2</td>\n",
       "    </tr>\n",
       "    <tr>\n",
       "      <th>2</th>\n",
       "      <td>idade</td>\n",
       "      <td>object</td>\n",
       "      <td>7000</td>\n",
       "      <td>60</td>\n",
       "      <td>Não se aplica</td>\n",
       "      <td>Não se aplica</td>\n",
       "      <td>Não se aplica</td>\n",
       "      <td>Não se aplica</td>\n",
       "      <td>Não se aplica</td>\n",
       "      <td>Não se aplica</td>\n",
       "      <td>Não se aplica</td>\n",
       "      <td>01/01/1800</td>\n",
       "      <td>837</td>\n",
       "    </tr>\n",
       "    <tr>\n",
       "      <th>3</th>\n",
       "      <td>genero</td>\n",
       "      <td>object</td>\n",
       "      <td>2</td>\n",
       "      <td>0</td>\n",
       "      <td>Não se aplica</td>\n",
       "      <td>Não se aplica</td>\n",
       "      <td>Não se aplica</td>\n",
       "      <td>Não se aplica</td>\n",
       "      <td>Não se aplica</td>\n",
       "      <td>Não se aplica</td>\n",
       "      <td>Não se aplica</td>\n",
       "      <td>M</td>\n",
       "      <td>11589</td>\n",
       "    </tr>\n",
       "    <tr>\n",
       "      <th>4</th>\n",
       "      <td>localizacao</td>\n",
       "      <td>object</td>\n",
       "      <td>1644</td>\n",
       "      <td>0</td>\n",
       "      <td>Não se aplica</td>\n",
       "      <td>Não se aplica</td>\n",
       "      <td>Não se aplica</td>\n",
       "      <td>Não se aplica</td>\n",
       "      <td>Não se aplica</td>\n",
       "      <td>Não se aplica</td>\n",
       "      <td>Não se aplica</td>\n",
       "      <td>MUMBAI</td>\n",
       "      <td>1571</td>\n",
       "    </tr>\n",
       "    <tr>\n",
       "      <th>5</th>\n",
       "      <td>saldo</td>\n",
       "      <td>float64</td>\n",
       "      <td>13997</td>\n",
       "      <td>0</td>\n",
       "      <td>104331.201033</td>\n",
       "      <td>457364.148862</td>\n",
       "      <td>0.0</td>\n",
       "      <td>4698.99</td>\n",
       "      <td>16609.17</td>\n",
       "      <td>56051.97</td>\n",
       "      <td>17772978.13</td>\n",
       "      <td>0.0</td>\n",
       "      <td>46</td>\n",
       "    </tr>\n",
       "    <tr>\n",
       "      <th>6</th>\n",
       "      <td>data_transacao</td>\n",
       "      <td>datetime64[ns]</td>\n",
       "      <td>54</td>\n",
       "      <td>0</td>\n",
       "      <td>Não se aplica</td>\n",
       "      <td>Não se aplica</td>\n",
       "      <td>Não se aplica</td>\n",
       "      <td>Não se aplica</td>\n",
       "      <td>Não se aplica</td>\n",
       "      <td>Não se aplica</td>\n",
       "      <td>Não se aplica</td>\n",
       "      <td>2016-08-06 00:00:00</td>\n",
       "      <td>440</td>\n",
       "    </tr>\n",
       "    <tr>\n",
       "      <th>7</th>\n",
       "      <td>time_stamp</td>\n",
       "      <td>int64</td>\n",
       "      <td>13793</td>\n",
       "      <td>0</td>\n",
       "      <td>156396.655159</td>\n",
       "      <td>51868.456325</td>\n",
       "      <td>0.0</td>\n",
       "      <td>123426.0</td>\n",
       "      <td>163727.0</td>\n",
       "      <td>195840.0</td>\n",
       "      <td>235959.0</td>\n",
       "      <td>161734</td>\n",
       "      <td>5</td>\n",
       "    </tr>\n",
       "    <tr>\n",
       "      <th>8</th>\n",
       "      <td>quantia_transacao (INR)</td>\n",
       "      <td>float64</td>\n",
       "      <td>4584</td>\n",
       "      <td>0</td>\n",
       "      <td>1649.588309</td>\n",
       "      <td>8419.478006</td>\n",
       "      <td>0.0</td>\n",
       "      <td>169.0</td>\n",
       "      <td>452.0</td>\n",
       "      <td>1189.0</td>\n",
       "      <td>569500.27</td>\n",
       "      <td>100.0</td>\n",
       "      <td>518</td>\n",
       "    </tr>\n",
       "    <tr>\n",
       "      <th>9</th>\n",
       "      <td>idade_calculada</td>\n",
       "      <td>int32</td>\n",
       "      <td>70</td>\n",
       "      <td>0</td>\n",
       "      <td>30.708309</td>\n",
       "      <td>8.498054</td>\n",
       "      <td>12.0</td>\n",
       "      <td>25.0</td>\n",
       "      <td>29.0</td>\n",
       "      <td>34.0</td>\n",
       "      <td>84.0</td>\n",
       "      <td>31</td>\n",
       "      <td>1584</td>\n",
       "    </tr>\n",
       "    <tr>\n",
       "      <th>10</th>\n",
       "      <td>hora_transacao</td>\n",
       "      <td>object</td>\n",
       "      <td>13082</td>\n",
       "      <td>0</td>\n",
       "      <td>Não se aplica</td>\n",
       "      <td>Não se aplica</td>\n",
       "      <td>Não se aplica</td>\n",
       "      <td>Não se aplica</td>\n",
       "      <td>Não se aplica</td>\n",
       "      <td>Não se aplica</td>\n",
       "      <td>Não se aplica</td>\n",
       "      <td>07:52:02</td>\n",
       "      <td>5</td>\n",
       "    </tr>\n",
       "  </tbody>\n",
       "</table>\n",
       "</div>"
      ],
      "text/plain": [
       "                     coluna            tipo  únicos  null_soma          media  \\\n",
       "0              id_transacao          object   15729          0  Não se aplica   \n",
       "1                id_cliente          object   15693          0  Não se aplica   \n",
       "2                     idade          object    7000         60  Não se aplica   \n",
       "3                    genero          object       2          0  Não se aplica   \n",
       "4               localizacao          object    1644          0  Não se aplica   \n",
       "5                     saldo         float64   13997          0  104331.201033   \n",
       "6            data_transacao  datetime64[ns]      54          0  Não se aplica   \n",
       "7                time_stamp           int64   13793          0  156396.655159   \n",
       "8   quantia_transacao (INR)         float64    4584          0    1649.588309   \n",
       "9           idade_calculada           int32      70          0      30.708309   \n",
       "10           hora_transacao          object   13082          0  Não se aplica   \n",
       "\n",
       "           desvio         minimo            25%        mediana            75%  \\\n",
       "0   Não se aplica  Não se aplica  Não se aplica  Não se aplica  Não se aplica   \n",
       "1   Não se aplica  Não se aplica  Não se aplica  Não se aplica  Não se aplica   \n",
       "2   Não se aplica  Não se aplica  Não se aplica  Não se aplica  Não se aplica   \n",
       "3   Não se aplica  Não se aplica  Não se aplica  Não se aplica  Não se aplica   \n",
       "4   Não se aplica  Não se aplica  Não se aplica  Não se aplica  Não se aplica   \n",
       "5   457364.148862            0.0        4698.99       16609.17       56051.97   \n",
       "6   Não se aplica  Não se aplica  Não se aplica  Não se aplica  Não se aplica   \n",
       "7    51868.456325            0.0       123426.0       163727.0       195840.0   \n",
       "8     8419.478006            0.0          169.0          452.0         1189.0   \n",
       "9        8.498054           12.0           25.0           29.0           34.0   \n",
       "10  Não se aplica  Não se aplica  Não se aplica  Não se aplica  Não se aplica   \n",
       "\n",
       "           maximo                 moda  frequência_moda  \n",
       "0   Não se aplica             T1000106                1  \n",
       "1   Não se aplica             C1028915                2  \n",
       "2   Não se aplica           01/01/1800              837  \n",
       "3   Não se aplica                    M            11589  \n",
       "4   Não se aplica               MUMBAI             1571  \n",
       "5     17772978.13                  0.0               46  \n",
       "6   Não se aplica  2016-08-06 00:00:00              440  \n",
       "7        235959.0               161734                5  \n",
       "8       569500.27                100.0              518  \n",
       "9            84.0                   31             1584  \n",
       "10  Não se aplica             07:52:02                5  "
      ]
     },
     "execution_count": 118,
     "metadata": {},
     "output_type": "execute_result"
    }
   ],
   "source": [
    "check(dados)"
   ]
  },
  {
   "cell_type": "markdown",
   "metadata": {},
   "source": [
    "### Salvar o arquivo tratado\n",
    "\n",
    "---\n",
    "\n",
    "<a href='#índice'>Voltar ao início</a>"
   ]
  },
  {
   "cell_type": "code",
   "execution_count": 119,
   "metadata": {},
   "outputs": [
    {
     "name": "stdout",
     "output_type": "stream",
     "text": [
      "Arquivo salvo como '..\\data\\bank_transactions_clean_data.csv'.\n"
     ]
    }
   ],
   "source": [
    "# Obter o diretório onde o arquivo original está localizado\n",
    "diretorio_atual = os.path.dirname(os.path.abspath('arquivo.csv'))  # Substitua 'arquivo.csv' pelo nome do arquivo original\n",
    "\n",
    "# Caminho completo para o novo arquivo\n",
    "caminho_arquivo_novo = os.path.join(caminho, 'bank_transactions_clean_data.csv')\n",
    "\n",
    "# Salvar o DataFrame no novo arquivo\n",
    "dados.to_csv(caminho_arquivo_novo, index=False)\n",
    "\n",
    "# Verificar se o arquivo foi salvo corretamente\n",
    "print(f\"Arquivo salvo como '{caminho_arquivo_novo}'.\")"
   ]
  }
 ],
 "metadata": {
  "kernelspec": {
   "display_name": "base",
   "language": "python",
   "name": "python3"
  },
  "language_info": {
   "codemirror_mode": {
    "name": "ipython",
    "version": 3
   },
   "file_extension": ".py",
   "mimetype": "text/x-python",
   "name": "python",
   "nbconvert_exporter": "python",
   "pygments_lexer": "ipython3",
   "version": "3.11.5"
  }
 },
 "nbformat": 4,
 "nbformat_minor": 2
}
